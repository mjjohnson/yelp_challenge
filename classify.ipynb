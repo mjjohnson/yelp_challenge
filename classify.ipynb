{
 "metadata": {
  "name": ""
 },
 "nbformat": 3,
 "nbformat_minor": 0,
 "worksheets": [
  {
   "cells": [
    {
     "cell_type": "code",
     "collapsed": false,
     "input": [
      "from collections import defaultdict\n",
      "from itertools import izip\n",
      "import numpy as np\n",
      "import scipy as sp\n",
      "\n",
      "from sklearn import cross_validation\n",
      "from sklearn.datasets import load_svmlight_file\n",
      "from sklearn import preprocessing\n",
      "\n",
      "from sklearn.ensemble import AdaBoostClassifier, RandomForestClassifier\n",
      "from sklearn import svm\n",
      "from sklearn.naive_bayes import GaussianNB\n",
      "from sklearn import neighbors\n",
      "from sklearn import cluster\n"
     ],
     "language": "python",
     "metadata": {},
     "outputs": [],
     "prompt_number": 1
    },
    {
     "cell_type": "code",
     "collapsed": false,
     "input": [
      "np.random.seed(0)\n",
      "X, Y = load_svmlight_file(\"processed.svmlight\")\n",
      "X = X.toarray()\n",
      "\n",
      "# Want to shuffle X and Y in unison, so save the state and restore it\n",
      "rng_state = numpy.random.get_state()\n",
      "np.random.shuffle(X)\n",
      "numpy.random.set_state(rng_state)\n",
      "np.random.shuffle(Y)\n",
      "\n",
      "\n",
      "np.random.seed(100)\n",
      "# Try clustering\n",
      "latlon = X[:,:2]\n",
      "\n",
      "n_clusters = 7\n",
      "k_means = cluster.KMeans(n_clusters=n_clusters)\n",
      "k_means.fit(latlon)\n",
      "\n",
      "lb = preprocessing.LabelBinarizer()\n",
      "lb.fit(k_means.labels_)\n",
      "cluster_binarized = lb.transform(k_means.labels_)\n",
      "#X = numpy.concatenate((X, cluster_binarized),1)\n",
      "\n",
      "\n",
      "X_orig = X.copy()\n",
      "scaler = preprocessing.StandardScaler().fit(X)\n",
      "X = scaler.transform(X)\n",
      "\n",
      "overall_results = []\n"
     ],
     "language": "python",
     "metadata": {},
     "outputs": [
      {
       "output_type": "stream",
       "stream": "stderr",
       "text": [
        "/Users/mjjohnson/.virtualenvs/testing/lib/python2.7/site-packages/sklearn/datasets/svmlight_format.py:137: DeprecationWarning: using a non-integer number instead of an integer will result in an error in the future\n",
        "  return _load_svmlight_file(f, dtype, multilabel, zero_based, query_id)\n",
        "/Users/mjjohnson/.virtualenvs/testing/lib/python2.7/site-packages/sklearn/datasets/svmlight_format.py:137: DeprecationWarning: using a non-integer number instead of an integer will result in an error in the future\n",
        "  return _load_svmlight_file(f, dtype, multilabel, zero_based, query_id)\n",
        "/Users/mjjohnson/.virtualenvs/testing/lib/python2.7/site-packages/sklearn/datasets/svmlight_format.py:137: DeprecationWarning: using a non-integer number instead of an integer will result in an error in the future\n",
        "  return _load_svmlight_file(f, dtype, multilabel, zero_based, query_id)\n",
        "/Users/mjjohnson/.virtualenvs/testing/lib/python2.7/site-packages/sklearn/datasets/svmlight_format.py:137: DeprecationWarning: using a non-integer number instead of an integer will result in an error in the future\n",
        "  return _load_svmlight_file(f, dtype, multilabel, zero_based, query_id)\n",
        "/Users/mjjohnson/.virtualenvs/testing/lib/python2.7/site-packages/sklearn/datasets/svmlight_format.py:137: DeprecationWarning: using a non-integer number instead of an integer will result in an error in the future\n",
        "  return _load_svmlight_file(f, dtype, multilabel, zero_based, query_id)\n",
        "/Users/mjjohnson/.virtualenvs/testing/lib/python2.7/site-packages/sklearn/datasets/svmlight_format.py:137: DeprecationWarning: using a non-integer number instead of an integer will result in an error in the future\n",
        "  return _load_svmlight_file(f, dtype, multilabel, zero_based, query_id)\n",
        "/Users/mjjohnson/.virtualenvs/testing/lib/python2.7/site-packages/sklearn/datasets/svmlight_format.py:137: DeprecationWarning: using a non-integer number instead of an integer will result in an error in the future\n",
        "  return _load_svmlight_file(f, dtype, multilabel, zero_based, query_id)\n",
        "/Users/mjjohnson/.virtualenvs/testing/lib/python2.7/site-packages/sklearn/datasets/svmlight_format.py:137: DeprecationWarning: using a non-integer number instead of an integer will result in an error in the future\n",
        "  return _load_svmlight_file(f, dtype, multilabel, zero_based, query_id)\n",
        "/Users/mjjohnson/.virtualenvs/testing/lib/python2.7/site-packages/sklearn/datasets/svmlight_format.py:137: DeprecationWarning: using a non-integer number instead of an integer will result in an error in the future\n",
        "  return _load_svmlight_file(f, dtype, multilabel, zero_based, query_id)\n",
        "/Users/mjjohnson/.virtualenvs/testing/lib/python2.7/site-packages/sklearn/datasets/svmlight_format.py:137: DeprecationWarning: using a non-integer number instead of an integer will result in an error in the future\n",
        "  return _load_svmlight_file(f, dtype, multilabel, zero_based, query_id)\n",
        "/Users/mjjohnson/.virtualenvs/testing/lib/python2.7/site-packages/sklearn/datasets/svmlight_format.py:137: DeprecationWarning: using a non-integer number instead of an integer will result in an error in the future\n",
        "  return _load_svmlight_file(f, dtype, multilabel, zero_based, query_id)\n",
        "/Users/mjjohnson/.virtualenvs/testing/lib/python2.7/site-packages/sklearn/datasets/svmlight_format.py:137: DeprecationWarning: using a non-integer number instead of an integer will result in an error in the future\n",
        "  return _load_svmlight_file(f, dtype, multilabel, zero_based, query_id)\n",
        "/Users/mjjohnson/.virtualenvs/testing/lib/python2.7/site-packages/sklearn/datasets/svmlight_format.py:137: DeprecationWarning: using a non-integer number instead of an integer will result in an error in the future\n",
        "  return _load_svmlight_file(f, dtype, multilabel, zero_based, query_id)\n",
        "/Users/mjjohnson/.virtualenvs/testing/lib/python2.7/site-packages/sklearn/datasets/svmlight_format.py:137: DeprecationWarning: using a non-integer number instead of an integer will result in an error in the future\n",
        "  return _load_svmlight_file(f, dtype, multilabel, zero_based, query_id)\n",
        "/Users/mjjohnson/.virtualenvs/testing/lib/python2.7/site-packages/sklearn/datasets/svmlight_format.py:137: DeprecationWarning: using a non-integer number instead of an integer will result in an error in the future\n",
        "  return _load_svmlight_file(f, dtype, multilabel, zero_based, query_id)\n",
        "/Users/mjjohnson/.virtualenvs/testing/lib/python2.7/site-packages/sklearn/datasets/svmlight_format.py:137: DeprecationWarning: using a non-integer number instead of an integer will result in an error in the future\n",
        "  return _load_svmlight_file(f, dtype, multilabel, zero_based, query_id)\n",
        "/Users/mjjohnson/.virtualenvs/testing/lib/python2.7/site-packages/sklearn/datasets/svmlight_format.py:137: DeprecationWarning: using a non-integer number instead of an integer will result in an error in the future\n",
        "  return _load_svmlight_file(f, dtype, multilabel, zero_based, query_id)\n",
        "/Users/mjjohnson/.virtualenvs/testing/lib/python2.7/site-packages/sklearn/datasets/svmlight_format.py:137: DeprecationWarning: using a non-integer number instead of an integer will result in an error in the future\n",
        "  return _load_svmlight_file(f, dtype, multilabel, zero_based, query_id)\n",
        "/Users/mjjohnson/.virtualenvs/testing/lib/python2.7/site-packages/sklearn/datasets/svmlight_format.py:137: DeprecationWarning: using a non-integer number instead of an integer will result in an error in the future\n",
        "  return _load_svmlight_file(f, dtype, multilabel, zero_based, query_id)\n",
        "/Users/mjjohnson/.virtualenvs/testing/lib/python2.7/site-packages/sklearn/datasets/svmlight_format.py:137: DeprecationWarning: using a non-integer number instead of an integer will result in an error in the future\n",
        "  return _load_svmlight_file(f, dtype, multilabel, zero_based, query_id)\n",
        "/Users/mjjohnson/.virtualenvs/testing/lib/python2.7/site-packages/sklearn/datasets/svmlight_format.py:137: DeprecationWarning: using a non-integer number instead of an integer will result in an error in the future\n",
        "  return _load_svmlight_file(f, dtype, multilabel, zero_based, query_id)\n",
        "/Users/mjjohnson/.virtualenvs/testing/lib/python2.7/site-packages/sklearn/datasets/svmlight_format.py:137: DeprecationWarning: using a non-integer number instead of an integer will result in an error in the future\n",
        "  return _load_svmlight_file(f, dtype, multilabel, zero_based, query_id)\n",
        "/Users/mjjohnson/.virtualenvs/testing/lib/python2.7/site-packages/sklearn/datasets/svmlight_format.py:137: DeprecationWarning: using a non-integer number instead of an integer will result in an error in the future\n",
        "  return _load_svmlight_file(f, dtype, multilabel, zero_based, query_id)\n",
        "/Users/mjjohnson/.virtualenvs/testing/lib/python2.7/site-packages/sklearn/datasets/svmlight_format.py:137: DeprecationWarning: using a non-integer number instead of an integer will result in an error in the future\n",
        "  return _load_svmlight_file(f, dtype, multilabel, zero_based, query_id)\n",
        "/Users/mjjohnson/.virtualenvs/testing/lib/python2.7/site-packages/sklearn/datasets/svmlight_format.py:137: DeprecationWarning: using a non-integer number instead of an integer will result in an error in the future\n",
        "  return _load_svmlight_file(f, dtype, multilabel, zero_based, query_id)\n",
        "/Users/mjjohnson/.virtualenvs/testing/lib/python2.7/site-packages/sklearn/datasets/svmlight_format.py:137: DeprecationWarning: using a non-integer number instead of an integer will result in an error in the future\n",
        "  return _load_svmlight_file(f, dtype, multilabel, zero_based, query_id)\n",
        "/Users/mjjohnson/.virtualenvs/testing/lib/python2.7/site-packages/sklearn/datasets/svmlight_format.py:137: DeprecationWarning: using a non-integer number instead of an integer will result in an error in the future\n",
        "  return _load_svmlight_file(f, dtype, multilabel, zero_based, query_id)\n",
        "/Users/mjjohnson/.virtualenvs/testing/lib/python2.7/site-packages/sklearn/datasets/svmlight_format.py:137: DeprecationWarning: using a non-integer number instead of an integer will result in an error in the future\n",
        "  return _load_svmlight_file(f, dtype, multilabel, zero_based, query_id)\n",
        "/Users/mjjohnson/.virtualenvs/testing/lib/python2.7/site-packages/sklearn/datasets/svmlight_format.py:137: DeprecationWarning: using a non-integer number instead of an integer will result in an error in the future\n",
        "  return _load_svmlight_file(f, dtype, multilabel, zero_based, query_id)\n"
       ]
      },
      {
       "output_type": "stream",
       "stream": "stderr",
       "text": [
        "/Users/mjjohnson/.virtualenvs/testing/lib/python2.7/site-packages/sklearn/datasets/svmlight_format.py:137: DeprecationWarning: using a non-integer number instead of an integer will result in an error in the future\n",
        "  return _load_svmlight_file(f, dtype, multilabel, zero_based, query_id)\n",
        "/Users/mjjohnson/.virtualenvs/testing/lib/python2.7/site-packages/sklearn/datasets/svmlight_format.py:137: DeprecationWarning: using a non-integer number instead of an integer will result in an error in the future\n",
        "  return _load_svmlight_file(f, dtype, multilabel, zero_based, query_id)\n",
        "/Users/mjjohnson/.virtualenvs/testing/lib/python2.7/site-packages/sklearn/datasets/svmlight_format.py:137: DeprecationWarning: using a non-integer number instead of an integer will result in an error in the future\n",
        "  return _load_svmlight_file(f, dtype, multilabel, zero_based, query_id)\n",
        "/Users/mjjohnson/.virtualenvs/testing/lib/python2.7/site-packages/sklearn/datasets/svmlight_format.py:137: DeprecationWarning: using a non-integer number instead of an integer will result in an error in the future\n",
        "  return _load_svmlight_file(f, dtype, multilabel, zero_based, query_id)\n",
        "/Users/mjjohnson/.virtualenvs/testing/lib/python2.7/site-packages/sklearn/datasets/svmlight_format.py:137: DeprecationWarning: using a non-integer number instead of an integer will result in an error in the future\n",
        "  return _load_svmlight_file(f, dtype, multilabel, zero_based, query_id)\n",
        "/Users/mjjohnson/.virtualenvs/testing/lib/python2.7/site-packages/sklearn/datasets/svmlight_format.py:137: DeprecationWarning: using a non-integer number instead of an integer will result in an error in the future\n",
        "  return _load_svmlight_file(f, dtype, multilabel, zero_based, query_id)\n",
        "/Users/mjjohnson/.virtualenvs/testing/lib/python2.7/site-packages/sklearn/datasets/svmlight_format.py:137: DeprecationWarning: using a non-integer number instead of an integer will result in an error in the future\n",
        "  return _load_svmlight_file(f, dtype, multilabel, zero_based, query_id)\n",
        "/Users/mjjohnson/.virtualenvs/testing/lib/python2.7/site-packages/sklearn/datasets/svmlight_format.py:137: DeprecationWarning: using a non-integer number instead of an integer will result in an error in the future\n",
        "  return _load_svmlight_file(f, dtype, multilabel, zero_based, query_id)\n"
       ]
      },
      {
       "output_type": "stream",
       "stream": "stderr",
       "text": [
        "/Users/mjjohnson/.virtualenvs/testing/lib/python2.7/site-packages/sklearn/datasets/svmlight_format.py:137: DeprecationWarning: using a non-integer number instead of an integer will result in an error in the future\n",
        "  return _load_svmlight_file(f, dtype, multilabel, zero_based, query_id)\n",
        "/Users/mjjohnson/.virtualenvs/testing/lib/python2.7/site-packages/sklearn/datasets/svmlight_format.py:137: DeprecationWarning: using a non-integer number instead of an integer will result in an error in the future\n",
        "  return _load_svmlight_file(f, dtype, multilabel, zero_based, query_id)\n",
        "/Users/mjjohnson/.virtualenvs/testing/lib/python2.7/site-packages/sklearn/datasets/svmlight_format.py:137: DeprecationWarning: using a non-integer number instead of an integer will result in an error in the future\n",
        "  return _load_svmlight_file(f, dtype, multilabel, zero_based, query_id)\n"
       ]
      }
     ],
     "prompt_number": 2
    },
    {
     "cell_type": "code",
     "collapsed": false,
     "input": [
      "# Split the data up by cluster\n",
      "clusters = defaultdict(list)\n",
      "cluster_labels = defaultdict(list)\n",
      "for cluster_label, row, label in izip(k_means.labels_, X[:,2:], Y):\n",
      "    clusters[cluster_label].append(row)\n",
      "    cluster_labels[cluster_label].append(label)\n",
      "\n",
      "# Now create a classifier for each cluster separately\n",
      "cluster_classifiers = []\n",
      "scores = []\n",
      "for cluster_label in range(n_clusters):\n",
      "    cluster_cls = AdaBoostClassifier(n_estimators=100)\n",
      "    cluster_scores = cross_validation.cross_val_score(cluster_cls, np.array(clusters[cluster_label]), np.array(cluster_labels[cluster_label]), cv=10)\n",
      "    print(\"Accuracy: %0.2f (+/- %0.2f)\" % (cluster_scores.mean(), cluster_scores.std() * 2))\n",
      "    scores.append(cluster_scores.mean())\n",
      "    \n",
      "print np.average(scores)\n",
      "overall_results.append(np.average(scores))"
     ],
     "language": "python",
     "metadata": {},
     "outputs": [
      {
       "output_type": "stream",
       "stream": "stdout",
       "text": [
        "Accuracy: 0.49 (+/- 0.07)\n",
        "Accuracy: 0.44 (+/- 0.14)"
       ]
      },
      {
       "output_type": "stream",
       "stream": "stdout",
       "text": [
        "\n",
        "Accuracy: 0.50 (+/- 0.14)"
       ]
      },
      {
       "output_type": "stream",
       "stream": "stdout",
       "text": [
        "\n",
        "Accuracy: 0.77 (+/- 0.65)"
       ]
      },
      {
       "output_type": "stream",
       "stream": "stdout",
       "text": [
        "\n",
        "Accuracy: 0.46 (+/- 0.06)"
       ]
      },
      {
       "output_type": "stream",
       "stream": "stdout",
       "text": [
        "\n",
        "Accuracy: 0.42 (+/- 0.06)"
       ]
      },
      {
       "output_type": "stream",
       "stream": "stdout",
       "text": [
        "\n",
        "Accuracy: 0.47 (+/- 0.11)"
       ]
      },
      {
       "output_type": "stream",
       "stream": "stdout",
       "text": [
        "\n",
        "0.506628234992\n"
       ]
      },
      {
       "output_type": "stream",
       "stream": "stderr",
       "text": [
        "/Users/mjjohnson/.virtualenvs/testing/lib/python2.7/site-packages/sklearn/cross_validation.py:401: Warning: The least populated class in y has only 1 members, which is too few. The minimum number of labels for any class cannot be less than n_folds=10.\n",
        "  % (min_labels, self.n_folds)), Warning)\n"
       ]
      }
     ],
     "prompt_number": 3
    },
    {
     "cell_type": "code",
     "collapsed": false,
     "input": [
      "random_forest_cls = RandomForestClassifier(n_estimators=30)\n",
      "random_forest_scores = cross_validation.cross_val_score(random_forest_cls, X, Y, cv=10)\n",
      "print(\"Accuracy: %0.2f (+/- %0.2f)\" % (random_forest_scores.mean(), random_forest_scores.std() * 2))\n",
      "overall_results.append(random_forest_scores.mean())"
     ],
     "language": "python",
     "metadata": {},
     "outputs": [
      {
       "output_type": "stream",
       "stream": "stdout",
       "text": [
        "Accuracy: 0.47 (+/- 0.05)\n"
       ]
      }
     ],
     "prompt_number": 4
    },
    {
     "cell_type": "code",
     "collapsed": false,
     "input": [
      "adaboost_cls = AdaBoostClassifier(n_estimators=100)\n",
      "adaboost_scores = cross_validation.cross_val_score(adaboost_cls, X, Y, cv=10)\n",
      "print(\"Accuracy: %0.2f (+/- %0.2f)\" % (adaboost_scores.mean(), adaboost_scores.std() * 2))\n",
      "overall_results.append(adaboost_scores.mean())"
     ],
     "language": "python",
     "metadata": {},
     "outputs": [
      {
       "output_type": "stream",
       "stream": "stdout",
       "text": [
        "Accuracy: 0.49 (+/- 0.05)\n"
       ]
      }
     ],
     "prompt_number": 5
    },
    {
     "cell_type": "code",
     "collapsed": false,
     "input": [
      "svm_cls = svm.SVC(kernel='rbf')\n",
      "svm_scores = cross_validation.cross_val_score(svm_cls, X, Y, cv=10)\n",
      "print(\"Accuracy: %0.2f (+/- %0.2f)\" % (svm_scores.mean(), svm_scores.std() * 2))\n",
      "overall_results.append(svm_scores.mean())"
     ],
     "language": "python",
     "metadata": {},
     "outputs": [
      {
       "output_type": "stream",
       "stream": "stdout",
       "text": [
        "Accuracy: 0.46 (+/- 0.05)\n"
       ]
      }
     ],
     "prompt_number": 6
    },
    {
     "cell_type": "code",
     "collapsed": false,
     "input": [
      "linear_svm_cls = svm.LinearSVC()\n",
      "linear_svm_scores = cross_validation.cross_val_score(linear_svm_cls, X, Y, cv=10)\n",
      "print(\"Accuracy: %0.2f (+/- %0.2f)\" % (linear_svm_scores.mean(), linear_svm_scores.std() * 2))\n",
      "overall_results.append(linear_svm_scores.mean())"
     ],
     "language": "python",
     "metadata": {},
     "outputs": [
      {
       "output_type": "stream",
       "stream": "stdout",
       "text": [
        "Accuracy: 0.44 (+/- 0.02)\n"
       ]
      }
     ],
     "prompt_number": 7
    },
    {
     "cell_type": "code",
     "collapsed": false,
     "input": [
      "gnb_cls = GaussianNB()\n",
      "gnb_scores = cross_validation.cross_val_score(gnb_cls, X, Y, cv=10)\n",
      "print(\"Accuracy: %0.2f (+/- %0.2f)\" % (gnb_scores.mean(), gnb_scores.std() * 2))\n",
      "overall_results.append(gnb_scores.mean())"
     ],
     "language": "python",
     "metadata": {},
     "outputs": [
      {
       "output_type": "stream",
       "stream": "stdout",
       "text": [
        "Accuracy: 0.43 (+/- 0.03)\n"
       ]
      }
     ],
     "prompt_number": 8
    },
    {
     "cell_type": "code",
     "collapsed": false,
     "input": [
      "knn_cls = neighbors.KNeighborsClassifier(25)\n",
      "knn_scores = cross_validation.cross_val_score(knn_cls, X, Y, cv=10)\n",
      "print(\"Accuracy: %0.2f (+/- %0.2f)\" % (knn_scores.mean(), knn_scores.std() * 2))\n",
      "overall_results.append(knn_scores.mean())"
     ],
     "language": "python",
     "metadata": {},
     "outputs": [
      {
       "output_type": "stream",
       "stream": "stdout",
       "text": [
        "Accuracy: 0.47 (+/- 0.04)\n"
       ]
      }
     ],
     "prompt_number": 9
    },
    {
     "cell_type": "code",
     "collapsed": false,
     "input": [
      "# Try stacking several different classifiers\n",
      "scores = []\n",
      "kf_outer = cross_validation.KFold(len(Y), n_folds=5, indices=False)\n",
      "for train_outer, test_outer in kf_outer:\n",
      "    X_train_outer, X_test_outer, y_train_outer, y_test_outer = X[train_outer], X[test_outer], Y[train_outer], Y[test_outer]\n",
      "    classifiers = [\n",
      "        RandomForestClassifier(n_estimators=30),\n",
      "        AdaBoostClassifier(n_estimators=100),\n",
      "        svm.SVC(kernel='rbf'),\n",
      "        svm.LinearSVC(),\n",
      "        GaussianNB(),\n",
      "        neighbors.KNeighborsClassifier(25),\n",
      "    ]\n",
      "    \n",
      "    predictions = []\n",
      "    for classifier in classifiers:\n",
      "        classifier.fit(X_train_outer, y_train_outer)\n",
      "        predictions.append(classifier.predict(X_test_outer))\n",
      "    \n",
      "    predictions = zip(*predictions)\n",
      "    predictions = np.array(predictions)\n",
      "    \n",
      "    # Now train the overall classifier\n",
      "    stack_cls = svm.SVC(kernel='rbf')\n",
      "    stack_scores = cross_validation.cross_val_score(stack_cls, predictions, y_test_outer, cv=5)\n",
      "    print(\"Accuracy: %0.2f (+/- %0.2f)\" % (stack_scores.mean(), stack_scores.std() * 2))\n",
      "    scores.append(stack_scores.mean())\n",
      "    \n",
      "print np.average(scores)\n",
      "overall_results.append(np.average(scores))"
     ],
     "language": "python",
     "metadata": {},
     "outputs": [
      {
       "output_type": "stream",
       "stream": "stdout",
       "text": [
        "Accuracy: 0.52 (+/- 0.07)\n",
        "Accuracy: 0.43 (+/- 0.04)"
       ]
      },
      {
       "output_type": "stream",
       "stream": "stdout",
       "text": [
        "\n",
        "Accuracy: 0.49 (+/- 0.08)"
       ]
      },
      {
       "output_type": "stream",
       "stream": "stdout",
       "text": [
        "\n",
        "Accuracy: 0.52 (+/- 0.08)"
       ]
      },
      {
       "output_type": "stream",
       "stream": "stdout",
       "text": [
        "\n",
        "Accuracy: 0.47 (+/- 0.10)"
       ]
      },
      {
       "output_type": "stream",
       "stream": "stdout",
       "text": [
        "\n",
        "0.485891914537\n"
       ]
      }
     ],
     "prompt_number": 10
    },
    {
     "cell_type": "code",
     "collapsed": false,
     "input": [
      "print ' '.join([\"%0.2f\" % x for x in overall_results])"
     ],
     "language": "python",
     "metadata": {},
     "outputs": [
      {
       "output_type": "stream",
       "stream": "stdout",
       "text": [
        "0.51 0.47 0.49 0.46 0.44 0.43 0.47 0.49\n"
       ]
      }
     ],
     "prompt_number": 11
    },
    {
     "cell_type": "code",
     "collapsed": false,
     "input": [],
     "language": "python",
     "metadata": {},
     "outputs": [],
     "prompt_number": 11
    }
   ],
   "metadata": {}
  }
 ]
}